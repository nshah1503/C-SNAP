{
  "cells": [
    {
      "cell_type": "markdown",
      "metadata": {},
      "source": [
        "## Import Libraries and Modules"
      ]
    },
    {
      "cell_type": "code",
      "execution_count": 17,
      "metadata": {
        "colab": {
          "base_uri": "https://localhost:8080/"
        },
        "id": "xKbjFd7cMlUQ",
        "outputId": "db162c94-3cac-4c10-edac-b3a54fd1d4f6"
      },
      "outputs": [],
      "source": [
        "!pip install snorkel\n",
        "!pip install textblob\n",
        "import io\n",
        "import pandas as pd\n",
        "#Snorkel\n",
        "from snorkel.labeling import LabelingFunction\n",
        "import re\n",
        "from snorkel.preprocess import preprocessor\n",
        "from textblob import TextBlob\n",
        "from snorkel.labeling import PandasLFApplier\n",
        "from snorkel.labeling.model import LabelModel\n",
        "from snorkel.labeling import LFAnalysis\n",
        "from snorkel.labeling import filter_unlabeled_dataframe\n",
        "from snorkel.labeling import labeling_function\n",
        "#NLP packages\n",
        "import spacy\n",
        "from nltk.corpus import stopwords\n",
        "import string\n",
        "import nltk\n",
        "import nltk.tokenize\n",
        "punc = string.punctuation\n",
        "nltk.download('stopwords')\n",
        "stop_words = set(stopwords.words('english'))\n"
      ]
    },
    {
      "cell_type": "code",
      "execution_count": null,
      "metadata": {},
      "outputs": [],
      "source": [
        "#Supervised learning\n",
        "from tqdm import tqdm_notebook as tqdm\n",
        "from sklearn.feature_extraction.text import TfidfVectorizer\n",
        "from sklearn.model_selection import train_test_split\n",
        "from sklearn.metrics import accuracy_score\n",
        "from sklearn.linear_model import LogisticRegression\n",
        "from sklearn.metrics import classification_report\n",
        "##Deep learning libraries and APIs\n",
        "import numpy as np\n",
        "import tensorflow as tf\n",
        "from tensorflow.keras.preprocessing.text import Tokenizer\n",
        "from tensorflow.keras.preprocessing.sequence import pad_sequences"
      ]
    },
    {
      "cell_type": "markdown",
      "metadata": {},
      "source": [
        "## Loading Dataset into the NB"
      ]
    },
    {
      "cell_type": "code",
      "execution_count": 3,
      "metadata": {
        "colab": {
          "base_uri": "https://localhost:8080/"
        },
        "id": "jZM8pWzoMlUT",
        "outputId": "bb4a7beb-6786-4b50-a2df-5e0fdf243ce7"
      },
      "outputs": [
        {
          "name": "stdout",
          "output_type": "stream",
          "text": [
            "<class 'pandas.core.frame.DataFrame'>\n",
            "RangeIndex: 120000 entries, 0 to 119999\n",
            "Data columns (total 3 columns):\n",
            " #   Column       Non-Null Count   Dtype \n",
            "---  ------       --------------   ----- \n",
            " 0   Class Index  120000 non-null  int64 \n",
            " 1   Title        120000 non-null  object\n",
            " 2   text         120000 non-null  object\n",
            "dtypes: int64(1), object(2)\n",
            "memory usage: 2.7+ MB\n"
          ]
        }
      ],
      "source": [
        "uploaded = '/Users/naisheel/Desktop/Python/Capstone Project/Google Storage Archive/train.csv'\n",
        "df = pd.read_csv(uploaded)\n",
        "\n",
        "df = df.rename(columns = {'Description': 'text'})\n",
        "df['text'] = df['text'].astype(str)\n",
        "\n",
        "#about dataset\n",
        "df.info()"
      ]
    },
    {
      "cell_type": "markdown",
      "metadata": {},
      "source": [
        "## Dataset Preprocessing"
      ]
    },
    {
      "cell_type": "code",
      "execution_count": 4,
      "metadata": {
        "id": "dPSlDQvYMlUT"
      },
      "outputs": [],
      "source": [
        "Pos = 1\n",
        "Neg = 0\n",
        "Neutral = -1\n",
        "\n",
        "def keyword_lookup(x, keywords, label):\n",
        "    if any(word in x.text.lower() for word in keywords):\n",
        "        return label\n",
        "    return Neutral\n",
        "\n",
        "def make_keyword_lf(keywords, label=Pos):\n",
        "    return LabelingFunction(\n",
        "        name=f\"keyword_{keywords[0]}\",\n",
        "        f=keyword_lookup,\n",
        "        resources=dict(keywords=keywords, label=label))\n",
        "keyword_positive = make_keyword_lf(keywords=['boosts', 'great', 'develops', 'promising', 'amazing', 'speelbounding', 'ambitious', 'delighted', 'record', 'win', 'breakthrough', 'recover', 'achievement', 'peace', 'party', 'hope', 'flourish', 'respect', 'partnership', 'champion', 'positive', 'happy', 'bright', 'confident', 'encouraged', 'perfect', 'complete', 'assured' ])\n",
        "keyword_negative = make_keyword_lf(keywords=['war','solidiers', 'conflict', 'turmoil', 'injur','trouble', 'aggressive', 'killed', 'coup', 'evasion', 'strike', 'troops', 'dismisses', 'attacks', 'defeat', 'damage', 'dishonest', 'dead', 'fear', 'foul', 'fails', 'hostile', 'cuts', 'accusations', 'victims',  'death', 'unrest', 'fraud', 'dispute', 'destruction', 'battle', 'unhappy', 'bad', 'alarming', 'angry', 'anxious', 'dirty', 'pain', 'poison', 'unfair', 'unhealthy'\n",
        "                                              ], label=Neg) # manually adding some pos/neg keywords to boost labelling"
      ]
    },
    {
      "cell_type": "code",
      "execution_count": 5,
      "metadata": {
        "id": "c7NE_l4YMlUU"
      },
      "outputs": [],
      "source": [
        "# fetching polarising sentiments\n",
        "@preprocessor(memoize=True)\n",
        "def textblob_sentiment(x):\n",
        "    scores = TextBlob(x.text)\n",
        "    x.polarity = scores.sentiment.polarity\n",
        "    x.subjectivity = scores.sentiment.subjectivity\n",
        "    return x"
      ]
    },
    {
      "cell_type": "code",
      "execution_count": 6,
      "metadata": {
        "id": "RDrmPK9DMlUU"
      },
      "outputs": [],
      "source": [
        "@labeling_function(pre=[textblob_sentiment])\n",
        "def textblob_polarity(x):\n",
        "    return Pos if x.polarity > 0.6 else Neutral"
      ]
    },
    {
      "cell_type": "code",
      "execution_count": 7,
      "metadata": {
        "id": "ug0YIlBQNYPT"
      },
      "outputs": [],
      "source": [
        "@labeling_function(pre=[textblob_sentiment])\n",
        "def textblob_subjectivity(x):\n",
        "    return Pos if x.subjectivity >= 0.5 else Neutral"
      ]
    },
    {
      "cell_type": "code",
      "execution_count": 8,
      "metadata": {
        "id": "jPW-GdpuNKbL"
      },
      "outputs": [],
      "source": [
        "# df = df.iloc[:50000] # Subset of train dataset for faster results due to limitation in hardware resources (Final result, however would be a model trained on the whole dataset)"
      ]
    },
    {
      "cell_type": "code",
      "execution_count": 54,
      "metadata": {
        "colab": {
          "base_uri": "https://localhost:8080/"
        },
        "id": "ygC61BM8NOr1",
        "outputId": "28014200-1ab7-4aae-b532-01756aee7a9f"
      },
      "outputs": [
        {
          "name": "stderr",
          "output_type": "stream",
          "text": [
            "100%|██████████| 27665/27665 [00:19<00:00, 1442.95it/s]\n",
            "INFO:root:Computing O...\n",
            "INFO:root:Estimating \\mu...\n",
            "  0%|          | 0/100 [00:00<?, ?epoch/s]INFO:root:[0 epochs]: TRAIN:[loss=0.479]\n",
            "INFO:root:[10 epochs]: TRAIN:[loss=0.168]\n",
            "INFO:root:[20 epochs]: TRAIN:[loss=0.025]\n",
            "INFO:root:[30 epochs]: TRAIN:[loss=0.039]\n",
            "INFO:root:[40 epochs]: TRAIN:[loss=0.018]\n",
            "INFO:root:[50 epochs]: TRAIN:[loss=0.020]\n",
            "INFO:root:[60 epochs]: TRAIN:[loss=0.017]\n",
            "INFO:root:[70 epochs]: TRAIN:[loss=0.017]\n",
            "INFO:root:[80 epochs]: TRAIN:[loss=0.016]\n",
            "INFO:root:[90 epochs]: TRAIN:[loss=0.016]\n",
            "100%|██████████| 100/100 [00:00<00:00, 1086.00epoch/s]\n",
            "INFO:root:Finished Training\n"
          ]
        }
      ],
      "source": [
        "#combine all the labeling functions\n",
        "lfs = [keyword_positive, keyword_negative, textblob_polarity, textblob_subjectivity ]\n",
        "#implement the lfs on the dataframe\n",
        "applier = PandasLFApplier(lfs=lfs)\n",
        "L_snorkel = applier.apply(df=df)\n",
        "#implement the label model\n",
        "label_model = LabelModel(cardinality=2, verbose=True)\n",
        "#fit on the data\n",
        "label_model.fit(L_snorkel)\n",
        "#predicting and labelling\n",
        "df[\"label\"] = label_model.predict(L=L_snorkel)"
      ]
    },
    {
      "cell_type": "code",
      "execution_count": 55,
      "metadata": {
        "colab": {
          "base_uri": "https://localhost:8080/"
        },
        "id": "G3wPzBb-NPxe",
        "outputId": "132d7b53-99c2-4682-81e5-ff60d09a8975"
      },
      "outputs": [
        {
          "data": {
            "text/plain": [
              "label\n",
              "1    16461\n",
              "0    11204\n",
              "Name: count, dtype: int64"
            ]
          },
          "execution_count": 55,
          "metadata": {},
          "output_type": "execute_result"
        }
      ],
      "source": [
        "#Filtering out unlabeled data points\n",
        "df= df.loc[df.label.isin([0,1]), :]\n",
        "#find the label counts\n",
        "df['label'].value_counts()"
      ]
    },
    {
      "cell_type": "code",
      "execution_count": 56,
      "metadata": {
        "colab": {
          "base_uri": "https://localhost:8080/",
          "height": 208,
          "referenced_widgets": [
            "22d1e5b0f89043ae998226980786b096",
            "9734d19c28da49eaad21814123cf3506",
            "e58d156e9c5747fe87eb8a54a508a1ea",
            "7311ed02c99849b291ac2cb432e9e997",
            "6aa1e37890944446af6812ccb319c960",
            "e870f9b7e34e4e7289dbf526c6c2e564",
            "d2c32e21b877457796bb974bf651edd7",
            "00e2c2c7a87546a1ba027c7e3cb21856",
            "fc9b6d277e344124a543dcdee3c85d0e",
            "6571eba646c0474eac444d75a0aefdbb",
            "e6f1c33567744eada6baab6c4e247970",
            "4335dafee5864d039a2eea2a587d0b7d",
            "440f6a2360b94c829201e5f7fe0f015b",
            "4d0b8b0a38ce42f486dddbfd6411cf43",
            "4c00c08336c34bb2ac77d0c46ad2f35b",
            "a30b6f5186cd4c2db2f5cb9059369d0f",
            "784c282de2f642ddb058cc7d467beac4",
            "9deba1cb96d34639b809c5e73c7c7b92",
            "5ce6d527bd314144a4a807e04596d1bf",
            "0087bf482cca4dcaa1a8893242c9a801",
            "b719daef0e33439aae50c0f579a3ac5f",
            "948c6fd5f20644f2954c20c03bac9196"
          ]
        },
        "id": "dVrdRqGLNd86",
        "outputId": "55bc5763-3ee5-4908-a22c-ab7bab2a206b"
      },
      "outputs": [
        {
          "name": "stderr",
          "output_type": "stream",
          "text": [
            "100%|██████████| 27665/27665 [06:09<00:00, 74.93it/s]\n",
            "100%|██████████| 27665/27665 [00:01<00:00, 22623.26it/s]\n"
          ]
        }
      ],
      "source": [
        "#make a copy of the dataframe\n",
        "data = df.copy()\n",
        "#define a function which handles the text preprocessing\n",
        "def text_data_prep(data):\n",
        "    \"\"\"\n",
        "    This pipeline processes our data by executing the following steps:\n",
        "    Tokenization, Lemmatization, Removing stopwords, & removing punctuation\n",
        "    \"\"\"\n",
        "    # initialize spacy object\n",
        "    nlp = spacy.load('en_core_web_sm')\n",
        "    # select raw text\n",
        "    raw_text = data.text.values.tolist()\n",
        "    # tokenize\n",
        "    tokenized_text = [[nlp(i.lower().strip())] for i in tqdm(raw_text)]\n",
        "    #define the punctuations and stop words\n",
        "    punc = string.punctuation\n",
        "    stop_words = set(stopwords.words('english'))\n",
        "    #lemmatize, remove stopwords and punctuationd\n",
        "    corpus = []\n",
        "    for doc in tqdm(tokenized_text):\n",
        "        corpus.append([word.lemma_ for word in doc[0] if (word.lemma_ not in stop_words and word.lemma_ not in punc)])\n",
        "    # add prepared data to df\n",
        "    data[\"text\"] = corpus\n",
        "    return data\n",
        "#apply the data preprocessing function\n",
        "data =  text_data_prep(data)"
      ]
    },
    {
      "cell_type": "code",
      "execution_count": 57,
      "metadata": {
        "colab": {
          "base_uri": "https://localhost:8080/"
        },
        "id": "guw2li8lNgYL",
        "outputId": "27f4f359-01de-4a5e-a7d4-d6217bafa22b"
      },
      "outputs": [
        {
          "name": "stdout",
          "output_type": "stream",
          "text": [
            "(27665, 26854)\n",
            "['00' '000' '000metres' ... 'zwick' 'zyman' 'zz']\n"
          ]
        }
      ],
      "source": [
        "def text_representation(data):\n",
        "  tfidf_vect = TfidfVectorizer()\n",
        "  data['text'] = data['text'].apply(lambda text: \" \".join(set(text)))\n",
        "  X_tfidf = tfidf_vect.fit_transform(data['text'])\n",
        "  print(X_tfidf.shape)\n",
        "  print(tfidf_vect.get_feature_names_out())\n",
        "  X_tfidf = pd.DataFrame(X_tfidf.toarray())\n",
        "  return X_tfidf\n",
        "#apply the TFIDV function\n",
        "X_tfidf = text_representation(data)"
      ]
    },
    {
      "cell_type": "markdown",
      "metadata": {},
      "source": [
        "## Training (Supervised Learning)"
      ]
    },
    {
      "cell_type": "code",
      "execution_count": 58,
      "metadata": {
        "colab": {
          "base_uri": "https://localhost:8080/"
        },
        "id": "M8UG3_yNNj9L",
        "outputId": "f13da650-019d-47f8-b3bd-afb7fc77e691"
      },
      "outputs": [
        {
          "name": "stdout",
          "output_type": "stream",
          "text": [
            "              precision    recall  f1-score   support\n",
            "\n",
            "           0       0.94      0.80      0.87      3676\n",
            "           1       0.88      0.97      0.92      5454\n",
            "\n",
            "    accuracy                           0.90      9130\n",
            "   macro avg       0.91      0.88      0.89      9130\n",
            "weighted avg       0.90      0.90      0.90      9130\n",
            "\n"
          ]
        }
      ],
      "source": [
        "X= X_tfidf\n",
        "y = data['label']\n",
        "X_train, X_test, y_train, y_test = train_test_split(X, y, test_size=0.33, random_state=42)\n",
        "#fit Log Regression Model\n",
        "clf= LogisticRegression()\n",
        "clf.fit(X_train,y_train)\n",
        "clf.score(X_test,y_test)\n",
        "y_pred = clf.predict(X_test)\n",
        "print(classification_report(y_test, y_pred))"
      ]
    },
    {
      "cell_type": "markdown",
      "metadata": {},
      "source": [
        "### Testing our model on a new text"
      ]
    },
    {
      "cell_type": "markdown",
      "metadata": {},
      "source": [
        "## Saving the model"
      ]
    },
    {
      "cell_type": "code",
      "execution_count": 67,
      "metadata": {
        "colab": {
          "base_uri": "https://localhost:8080/"
        },
        "id": "qlNs0vHiVxst",
        "outputId": "87c61cbb-7ac0-4755-ae43-02e098389559"
      },
      "outputs": [
        {
          "name": "stderr",
          "output_type": "stream",
          "text": [
            "/Library/Frameworks/Python.framework/Versions/3.11/lib/python3.11/site-packages/keras/src/engine/training.py:3103: UserWarning: You are saving your model as an HDF5 file via `model.save()`. This file format is considered legacy. We recommend using instead the native Keras format, e.g. `model.save('my_model.keras')`.\n",
            "  saving_api.save_model(\n"
          ]
        }
      ],
      "source": [
        "model.save('model_path.h5') # saves model as new executable file to analyse new data"
      ]
    },
    {
      "cell_type": "markdown",
      "metadata": {},
      "source": [
        "## Downloading Preprocessed Dataset"
      ]
    },
    {
      "cell_type": "code",
      "execution_count": 18,
      "metadata": {},
      "outputs": [],
      "source": [
        "df.to_csv('pre-processed-dataset', sep=',', index=False, encoding='utf-8')"
      ]
    },
    {
      "cell_type": "code",
      "execution_count": null,
      "metadata": {},
      "outputs": [],
      "source": []
    }
  ],
  "metadata": {
    "colab": {
      "provenance": []
    },
    "kernelspec": {
      "display_name": "Python 3.11.5 64-bit",
      "language": "python",
      "name": "python3"
    },
    "language_info": {
      "codemirror_mode": {
        "name": "ipython",
        "version": 3
      },
      "file_extension": ".py",
      "mimetype": "text/x-python",
      "name": "python",
      "nbconvert_exporter": "python",
      "pygments_lexer": "ipython3",
      "version": "3.11.5"
    },
    "orig_nbformat": 4,
    "vscode": {
      "interpreter": {
        "hash": "aee8b7b246df8f9039afb4144a1f6fd8d2ca17a180786b69acc140d282b71a49"
      }
    },
    "widgets": {
      "application/vnd.jupyter.widget-state+json": {
        "0087bf482cca4dcaa1a8893242c9a801": {
          "model_module": "@jupyter-widgets/controls",
          "model_module_version": "1.5.0",
          "model_name": "ProgressStyleModel",
          "state": {
            "_model_module": "@jupyter-widgets/controls",
            "_model_module_version": "1.5.0",
            "_model_name": "ProgressStyleModel",
            "_view_count": null,
            "_view_module": "@jupyter-widgets/base",
            "_view_module_version": "1.2.0",
            "_view_name": "StyleView",
            "bar_color": null,
            "description_width": ""
          }
        },
        "00e2c2c7a87546a1ba027c7e3cb21856": {
          "model_module": "@jupyter-widgets/base",
          "model_module_version": "1.2.0",
          "model_name": "LayoutModel",
          "state": {
            "_model_module": "@jupyter-widgets/base",
            "_model_module_version": "1.2.0",
            "_model_name": "LayoutModel",
            "_view_count": null,
            "_view_module": "@jupyter-widgets/base",
            "_view_module_version": "1.2.0",
            "_view_name": "LayoutView",
            "align_content": null,
            "align_items": null,
            "align_self": null,
            "border": null,
            "bottom": null,
            "display": null,
            "flex": null,
            "flex_flow": null,
            "grid_area": null,
            "grid_auto_columns": null,
            "grid_auto_flow": null,
            "grid_auto_rows": null,
            "grid_column": null,
            "grid_gap": null,
            "grid_row": null,
            "grid_template_areas": null,
            "grid_template_columns": null,
            "grid_template_rows": null,
            "height": null,
            "justify_content": null,
            "justify_items": null,
            "left": null,
            "margin": null,
            "max_height": null,
            "max_width": null,
            "min_height": null,
            "min_width": null,
            "object_fit": null,
            "object_position": null,
            "order": null,
            "overflow": null,
            "overflow_x": null,
            "overflow_y": null,
            "padding": null,
            "right": null,
            "top": null,
            "visibility": null,
            "width": null
          }
        },
        "22d1e5b0f89043ae998226980786b096": {
          "model_module": "@jupyter-widgets/controls",
          "model_module_version": "1.5.0",
          "model_name": "HBoxModel",
          "state": {
            "_dom_classes": [],
            "_model_module": "@jupyter-widgets/controls",
            "_model_module_version": "1.5.0",
            "_model_name": "HBoxModel",
            "_view_count": null,
            "_view_module": "@jupyter-widgets/controls",
            "_view_module_version": "1.5.0",
            "_view_name": "HBoxView",
            "box_style": "",
            "children": [
              "IPY_MODEL_9734d19c28da49eaad21814123cf3506",
              "IPY_MODEL_e58d156e9c5747fe87eb8a54a508a1ea",
              "IPY_MODEL_7311ed02c99849b291ac2cb432e9e997"
            ],
            "layout": "IPY_MODEL_6aa1e37890944446af6812ccb319c960"
          }
        },
        "4335dafee5864d039a2eea2a587d0b7d": {
          "model_module": "@jupyter-widgets/controls",
          "model_module_version": "1.5.0",
          "model_name": "HBoxModel",
          "state": {
            "_dom_classes": [],
            "_model_module": "@jupyter-widgets/controls",
            "_model_module_version": "1.5.0",
            "_model_name": "HBoxModel",
            "_view_count": null,
            "_view_module": "@jupyter-widgets/controls",
            "_view_module_version": "1.5.0",
            "_view_name": "HBoxView",
            "box_style": "",
            "children": [
              "IPY_MODEL_440f6a2360b94c829201e5f7fe0f015b",
              "IPY_MODEL_4d0b8b0a38ce42f486dddbfd6411cf43",
              "IPY_MODEL_4c00c08336c34bb2ac77d0c46ad2f35b"
            ],
            "layout": "IPY_MODEL_a30b6f5186cd4c2db2f5cb9059369d0f"
          }
        },
        "440f6a2360b94c829201e5f7fe0f015b": {
          "model_module": "@jupyter-widgets/controls",
          "model_module_version": "1.5.0",
          "model_name": "HTMLModel",
          "state": {
            "_dom_classes": [],
            "_model_module": "@jupyter-widgets/controls",
            "_model_module_version": "1.5.0",
            "_model_name": "HTMLModel",
            "_view_count": null,
            "_view_module": "@jupyter-widgets/controls",
            "_view_module_version": "1.5.0",
            "_view_name": "HTMLView",
            "description": "",
            "description_tooltip": null,
            "layout": "IPY_MODEL_784c282de2f642ddb058cc7d467beac4",
            "placeholder": "​",
            "style": "IPY_MODEL_9deba1cb96d34639b809c5e73c7c7b92",
            "value": "100%"
          }
        },
        "4c00c08336c34bb2ac77d0c46ad2f35b": {
          "model_module": "@jupyter-widgets/controls",
          "model_module_version": "1.5.0",
          "model_name": "HTMLModel",
          "state": {
            "_dom_classes": [],
            "_model_module": "@jupyter-widgets/controls",
            "_model_module_version": "1.5.0",
            "_model_name": "HTMLModel",
            "_view_count": null,
            "_view_module": "@jupyter-widgets/controls",
            "_view_module_version": "1.5.0",
            "_view_name": "HTMLView",
            "description": "",
            "description_tooltip": null,
            "layout": "IPY_MODEL_b719daef0e33439aae50c0f579a3ac5f",
            "placeholder": "​",
            "style": "IPY_MODEL_948c6fd5f20644f2954c20c03bac9196",
            "value": " 16608/16608 [00:00&lt;00:00, 21406.41it/s]"
          }
        },
        "4d0b8b0a38ce42f486dddbfd6411cf43": {
          "model_module": "@jupyter-widgets/controls",
          "model_module_version": "1.5.0",
          "model_name": "FloatProgressModel",
          "state": {
            "_dom_classes": [],
            "_model_module": "@jupyter-widgets/controls",
            "_model_module_version": "1.5.0",
            "_model_name": "FloatProgressModel",
            "_view_count": null,
            "_view_module": "@jupyter-widgets/controls",
            "_view_module_version": "1.5.0",
            "_view_name": "ProgressView",
            "bar_style": "success",
            "description": "",
            "description_tooltip": null,
            "layout": "IPY_MODEL_5ce6d527bd314144a4a807e04596d1bf",
            "max": 16608,
            "min": 0,
            "orientation": "horizontal",
            "style": "IPY_MODEL_0087bf482cca4dcaa1a8893242c9a801",
            "value": 16608
          }
        },
        "5ce6d527bd314144a4a807e04596d1bf": {
          "model_module": "@jupyter-widgets/base",
          "model_module_version": "1.2.0",
          "model_name": "LayoutModel",
          "state": {
            "_model_module": "@jupyter-widgets/base",
            "_model_module_version": "1.2.0",
            "_model_name": "LayoutModel",
            "_view_count": null,
            "_view_module": "@jupyter-widgets/base",
            "_view_module_version": "1.2.0",
            "_view_name": "LayoutView",
            "align_content": null,
            "align_items": null,
            "align_self": null,
            "border": null,
            "bottom": null,
            "display": null,
            "flex": null,
            "flex_flow": null,
            "grid_area": null,
            "grid_auto_columns": null,
            "grid_auto_flow": null,
            "grid_auto_rows": null,
            "grid_column": null,
            "grid_gap": null,
            "grid_row": null,
            "grid_template_areas": null,
            "grid_template_columns": null,
            "grid_template_rows": null,
            "height": null,
            "justify_content": null,
            "justify_items": null,
            "left": null,
            "margin": null,
            "max_height": null,
            "max_width": null,
            "min_height": null,
            "min_width": null,
            "object_fit": null,
            "object_position": null,
            "order": null,
            "overflow": null,
            "overflow_x": null,
            "overflow_y": null,
            "padding": null,
            "right": null,
            "top": null,
            "visibility": null,
            "width": null
          }
        },
        "6571eba646c0474eac444d75a0aefdbb": {
          "model_module": "@jupyter-widgets/base",
          "model_module_version": "1.2.0",
          "model_name": "LayoutModel",
          "state": {
            "_model_module": "@jupyter-widgets/base",
            "_model_module_version": "1.2.0",
            "_model_name": "LayoutModel",
            "_view_count": null,
            "_view_module": "@jupyter-widgets/base",
            "_view_module_version": "1.2.0",
            "_view_name": "LayoutView",
            "align_content": null,
            "align_items": null,
            "align_self": null,
            "border": null,
            "bottom": null,
            "display": null,
            "flex": null,
            "flex_flow": null,
            "grid_area": null,
            "grid_auto_columns": null,
            "grid_auto_flow": null,
            "grid_auto_rows": null,
            "grid_column": null,
            "grid_gap": null,
            "grid_row": null,
            "grid_template_areas": null,
            "grid_template_columns": null,
            "grid_template_rows": null,
            "height": null,
            "justify_content": null,
            "justify_items": null,
            "left": null,
            "margin": null,
            "max_height": null,
            "max_width": null,
            "min_height": null,
            "min_width": null,
            "object_fit": null,
            "object_position": null,
            "order": null,
            "overflow": null,
            "overflow_x": null,
            "overflow_y": null,
            "padding": null,
            "right": null,
            "top": null,
            "visibility": null,
            "width": null
          }
        },
        "6aa1e37890944446af6812ccb319c960": {
          "model_module": "@jupyter-widgets/base",
          "model_module_version": "1.2.0",
          "model_name": "LayoutModel",
          "state": {
            "_model_module": "@jupyter-widgets/base",
            "_model_module_version": "1.2.0",
            "_model_name": "LayoutModel",
            "_view_count": null,
            "_view_module": "@jupyter-widgets/base",
            "_view_module_version": "1.2.0",
            "_view_name": "LayoutView",
            "align_content": null,
            "align_items": null,
            "align_self": null,
            "border": null,
            "bottom": null,
            "display": null,
            "flex": null,
            "flex_flow": null,
            "grid_area": null,
            "grid_auto_columns": null,
            "grid_auto_flow": null,
            "grid_auto_rows": null,
            "grid_column": null,
            "grid_gap": null,
            "grid_row": null,
            "grid_template_areas": null,
            "grid_template_columns": null,
            "grid_template_rows": null,
            "height": null,
            "justify_content": null,
            "justify_items": null,
            "left": null,
            "margin": null,
            "max_height": null,
            "max_width": null,
            "min_height": null,
            "min_width": null,
            "object_fit": null,
            "object_position": null,
            "order": null,
            "overflow": null,
            "overflow_x": null,
            "overflow_y": null,
            "padding": null,
            "right": null,
            "top": null,
            "visibility": null,
            "width": null
          }
        },
        "7311ed02c99849b291ac2cb432e9e997": {
          "model_module": "@jupyter-widgets/controls",
          "model_module_version": "1.5.0",
          "model_name": "HTMLModel",
          "state": {
            "_dom_classes": [],
            "_model_module": "@jupyter-widgets/controls",
            "_model_module_version": "1.5.0",
            "_model_name": "HTMLModel",
            "_view_count": null,
            "_view_module": "@jupyter-widgets/controls",
            "_view_module_version": "1.5.0",
            "_view_name": "HTMLView",
            "description": "",
            "description_tooltip": null,
            "layout": "IPY_MODEL_6571eba646c0474eac444d75a0aefdbb",
            "placeholder": "​",
            "style": "IPY_MODEL_e6f1c33567744eada6baab6c4e247970",
            "value": " 16608/16608 [04:36&lt;00:00, 80.75it/s]"
          }
        },
        "784c282de2f642ddb058cc7d467beac4": {
          "model_module": "@jupyter-widgets/base",
          "model_module_version": "1.2.0",
          "model_name": "LayoutModel",
          "state": {
            "_model_module": "@jupyter-widgets/base",
            "_model_module_version": "1.2.0",
            "_model_name": "LayoutModel",
            "_view_count": null,
            "_view_module": "@jupyter-widgets/base",
            "_view_module_version": "1.2.0",
            "_view_name": "LayoutView",
            "align_content": null,
            "align_items": null,
            "align_self": null,
            "border": null,
            "bottom": null,
            "display": null,
            "flex": null,
            "flex_flow": null,
            "grid_area": null,
            "grid_auto_columns": null,
            "grid_auto_flow": null,
            "grid_auto_rows": null,
            "grid_column": null,
            "grid_gap": null,
            "grid_row": null,
            "grid_template_areas": null,
            "grid_template_columns": null,
            "grid_template_rows": null,
            "height": null,
            "justify_content": null,
            "justify_items": null,
            "left": null,
            "margin": null,
            "max_height": null,
            "max_width": null,
            "min_height": null,
            "min_width": null,
            "object_fit": null,
            "object_position": null,
            "order": null,
            "overflow": null,
            "overflow_x": null,
            "overflow_y": null,
            "padding": null,
            "right": null,
            "top": null,
            "visibility": null,
            "width": null
          }
        },
        "948c6fd5f20644f2954c20c03bac9196": {
          "model_module": "@jupyter-widgets/controls",
          "model_module_version": "1.5.0",
          "model_name": "DescriptionStyleModel",
          "state": {
            "_model_module": "@jupyter-widgets/controls",
            "_model_module_version": "1.5.0",
            "_model_name": "DescriptionStyleModel",
            "_view_count": null,
            "_view_module": "@jupyter-widgets/base",
            "_view_module_version": "1.2.0",
            "_view_name": "StyleView",
            "description_width": ""
          }
        },
        "9734d19c28da49eaad21814123cf3506": {
          "model_module": "@jupyter-widgets/controls",
          "model_module_version": "1.5.0",
          "model_name": "HTMLModel",
          "state": {
            "_dom_classes": [],
            "_model_module": "@jupyter-widgets/controls",
            "_model_module_version": "1.5.0",
            "_model_name": "HTMLModel",
            "_view_count": null,
            "_view_module": "@jupyter-widgets/controls",
            "_view_module_version": "1.5.0",
            "_view_name": "HTMLView",
            "description": "",
            "description_tooltip": null,
            "layout": "IPY_MODEL_e870f9b7e34e4e7289dbf526c6c2e564",
            "placeholder": "​",
            "style": "IPY_MODEL_d2c32e21b877457796bb974bf651edd7",
            "value": "100%"
          }
        },
        "9deba1cb96d34639b809c5e73c7c7b92": {
          "model_module": "@jupyter-widgets/controls",
          "model_module_version": "1.5.0",
          "model_name": "DescriptionStyleModel",
          "state": {
            "_model_module": "@jupyter-widgets/controls",
            "_model_module_version": "1.5.0",
            "_model_name": "DescriptionStyleModel",
            "_view_count": null,
            "_view_module": "@jupyter-widgets/base",
            "_view_module_version": "1.2.0",
            "_view_name": "StyleView",
            "description_width": ""
          }
        },
        "a30b6f5186cd4c2db2f5cb9059369d0f": {
          "model_module": "@jupyter-widgets/base",
          "model_module_version": "1.2.0",
          "model_name": "LayoutModel",
          "state": {
            "_model_module": "@jupyter-widgets/base",
            "_model_module_version": "1.2.0",
            "_model_name": "LayoutModel",
            "_view_count": null,
            "_view_module": "@jupyter-widgets/base",
            "_view_module_version": "1.2.0",
            "_view_name": "LayoutView",
            "align_content": null,
            "align_items": null,
            "align_self": null,
            "border": null,
            "bottom": null,
            "display": null,
            "flex": null,
            "flex_flow": null,
            "grid_area": null,
            "grid_auto_columns": null,
            "grid_auto_flow": null,
            "grid_auto_rows": null,
            "grid_column": null,
            "grid_gap": null,
            "grid_row": null,
            "grid_template_areas": null,
            "grid_template_columns": null,
            "grid_template_rows": null,
            "height": null,
            "justify_content": null,
            "justify_items": null,
            "left": null,
            "margin": null,
            "max_height": null,
            "max_width": null,
            "min_height": null,
            "min_width": null,
            "object_fit": null,
            "object_position": null,
            "order": null,
            "overflow": null,
            "overflow_x": null,
            "overflow_y": null,
            "padding": null,
            "right": null,
            "top": null,
            "visibility": null,
            "width": null
          }
        },
        "b719daef0e33439aae50c0f579a3ac5f": {
          "model_module": "@jupyter-widgets/base",
          "model_module_version": "1.2.0",
          "model_name": "LayoutModel",
          "state": {
            "_model_module": "@jupyter-widgets/base",
            "_model_module_version": "1.2.0",
            "_model_name": "LayoutModel",
            "_view_count": null,
            "_view_module": "@jupyter-widgets/base",
            "_view_module_version": "1.2.0",
            "_view_name": "LayoutView",
            "align_content": null,
            "align_items": null,
            "align_self": null,
            "border": null,
            "bottom": null,
            "display": null,
            "flex": null,
            "flex_flow": null,
            "grid_area": null,
            "grid_auto_columns": null,
            "grid_auto_flow": null,
            "grid_auto_rows": null,
            "grid_column": null,
            "grid_gap": null,
            "grid_row": null,
            "grid_template_areas": null,
            "grid_template_columns": null,
            "grid_template_rows": null,
            "height": null,
            "justify_content": null,
            "justify_items": null,
            "left": null,
            "margin": null,
            "max_height": null,
            "max_width": null,
            "min_height": null,
            "min_width": null,
            "object_fit": null,
            "object_position": null,
            "order": null,
            "overflow": null,
            "overflow_x": null,
            "overflow_y": null,
            "padding": null,
            "right": null,
            "top": null,
            "visibility": null,
            "width": null
          }
        },
        "d2c32e21b877457796bb974bf651edd7": {
          "model_module": "@jupyter-widgets/controls",
          "model_module_version": "1.5.0",
          "model_name": "DescriptionStyleModel",
          "state": {
            "_model_module": "@jupyter-widgets/controls",
            "_model_module_version": "1.5.0",
            "_model_name": "DescriptionStyleModel",
            "_view_count": null,
            "_view_module": "@jupyter-widgets/base",
            "_view_module_version": "1.2.0",
            "_view_name": "StyleView",
            "description_width": ""
          }
        },
        "e58d156e9c5747fe87eb8a54a508a1ea": {
          "model_module": "@jupyter-widgets/controls",
          "model_module_version": "1.5.0",
          "model_name": "FloatProgressModel",
          "state": {
            "_dom_classes": [],
            "_model_module": "@jupyter-widgets/controls",
            "_model_module_version": "1.5.0",
            "_model_name": "FloatProgressModel",
            "_view_count": null,
            "_view_module": "@jupyter-widgets/controls",
            "_view_module_version": "1.5.0",
            "_view_name": "ProgressView",
            "bar_style": "success",
            "description": "",
            "description_tooltip": null,
            "layout": "IPY_MODEL_00e2c2c7a87546a1ba027c7e3cb21856",
            "max": 16608,
            "min": 0,
            "orientation": "horizontal",
            "style": "IPY_MODEL_fc9b6d277e344124a543dcdee3c85d0e",
            "value": 16608
          }
        },
        "e6f1c33567744eada6baab6c4e247970": {
          "model_module": "@jupyter-widgets/controls",
          "model_module_version": "1.5.0",
          "model_name": "DescriptionStyleModel",
          "state": {
            "_model_module": "@jupyter-widgets/controls",
            "_model_module_version": "1.5.0",
            "_model_name": "DescriptionStyleModel",
            "_view_count": null,
            "_view_module": "@jupyter-widgets/base",
            "_view_module_version": "1.2.0",
            "_view_name": "StyleView",
            "description_width": ""
          }
        },
        "e870f9b7e34e4e7289dbf526c6c2e564": {
          "model_module": "@jupyter-widgets/base",
          "model_module_version": "1.2.0",
          "model_name": "LayoutModel",
          "state": {
            "_model_module": "@jupyter-widgets/base",
            "_model_module_version": "1.2.0",
            "_model_name": "LayoutModel",
            "_view_count": null,
            "_view_module": "@jupyter-widgets/base",
            "_view_module_version": "1.2.0",
            "_view_name": "LayoutView",
            "align_content": null,
            "align_items": null,
            "align_self": null,
            "border": null,
            "bottom": null,
            "display": null,
            "flex": null,
            "flex_flow": null,
            "grid_area": null,
            "grid_auto_columns": null,
            "grid_auto_flow": null,
            "grid_auto_rows": null,
            "grid_column": null,
            "grid_gap": null,
            "grid_row": null,
            "grid_template_areas": null,
            "grid_template_columns": null,
            "grid_template_rows": null,
            "height": null,
            "justify_content": null,
            "justify_items": null,
            "left": null,
            "margin": null,
            "max_height": null,
            "max_width": null,
            "min_height": null,
            "min_width": null,
            "object_fit": null,
            "object_position": null,
            "order": null,
            "overflow": null,
            "overflow_x": null,
            "overflow_y": null,
            "padding": null,
            "right": null,
            "top": null,
            "visibility": null,
            "width": null
          }
        },
        "fc9b6d277e344124a543dcdee3c85d0e": {
          "model_module": "@jupyter-widgets/controls",
          "model_module_version": "1.5.0",
          "model_name": "ProgressStyleModel",
          "state": {
            "_model_module": "@jupyter-widgets/controls",
            "_model_module_version": "1.5.0",
            "_model_name": "ProgressStyleModel",
            "_view_count": null,
            "_view_module": "@jupyter-widgets/base",
            "_view_module_version": "1.2.0",
            "_view_name": "StyleView",
            "bar_color": null,
            "description_width": ""
          }
        }
      }
    }
  },
  "nbformat": 4,
  "nbformat_minor": 0
}
